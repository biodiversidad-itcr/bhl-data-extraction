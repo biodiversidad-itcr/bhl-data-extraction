{
 "cells": [
  {
   "metadata": {},
   "cell_type": "markdown",
   "source": [
    "# Q&A Generation with OpenAI GPT\n",
    "\n",
    "This Jupyter notebook demonstrates how to:\n",
    "- Load an OpenAI API key from a `.env` file\n",
    "- Generate three clear Spanish Q&A pairs from BHL-extracted text\n",
    "- Focus Q&A on a specific species (e.g., Dermanura azteca)\n",
    "- Track token usage and estimate costs"
   ],
   "id": "fbe4004b73cd86ce"
  },
  {
   "metadata": {
    "ExecuteTime": {
     "end_time": "2025-05-20T03:15:41.045957Z",
     "start_time": "2025-05-20T03:15:39.198956Z"
    }
   },
   "cell_type": "code",
   "source": [
    "!pip install openai\n",
    "!pip install openai python-dotenv"
   ],
   "id": "initial_id",
   "outputs": [
    {
     "name": "stdout",
     "output_type": "stream",
     "text": [
      "Requirement already satisfied: openai in c:\\users\\alejandro\\appdata\\local\\programs\\python\\python39\\lib\\site-packages (1.79.0)\n",
      "Requirement already satisfied: anyio<5,>=3.5.0 in c:\\users\\alejandro\\appdata\\local\\programs\\python\\python39\\lib\\site-packages (from openai) (4.9.0)\n",
      "Requirement already satisfied: distro<2,>=1.7.0 in c:\\users\\alejandro\\appdata\\local\\programs\\python\\python39\\lib\\site-packages (from openai) (1.9.0)\n",
      "Requirement already satisfied: httpx<1,>=0.23.0 in c:\\users\\alejandro\\appdata\\local\\programs\\python\\python39\\lib\\site-packages (from openai) (0.28.1)\n",
      "Requirement already satisfied: jiter<1,>=0.4.0 in c:\\users\\alejandro\\appdata\\local\\programs\\python\\python39\\lib\\site-packages (from openai) (0.10.0)\n",
      "Requirement already satisfied: pydantic<3,>=1.9.0 in c:\\users\\alejandro\\appdata\\local\\programs\\python\\python39\\lib\\site-packages (from openai) (2.11.4)\n",
      "Requirement already satisfied: sniffio in c:\\users\\alejandro\\appdata\\local\\programs\\python\\python39\\lib\\site-packages (from openai) (1.3.1)\n",
      "Requirement already satisfied: tqdm>4 in c:\\users\\alejandro\\appdata\\local\\programs\\python\\python39\\lib\\site-packages (from openai) (4.67.1)\n",
      "Requirement already satisfied: typing-extensions<5,>=4.11 in c:\\users\\alejandro\\appdata\\local\\programs\\python\\python39\\lib\\site-packages (from openai) (4.13.2)\n",
      "Requirement already satisfied: exceptiongroup>=1.0.2 in c:\\users\\alejandro\\appdata\\local\\programs\\python\\python39\\lib\\site-packages (from anyio<5,>=3.5.0->openai) (1.2.2)\n",
      "Requirement already satisfied: idna>=2.8 in c:\\users\\alejandro\\appdata\\local\\programs\\python\\python39\\lib\\site-packages (from anyio<5,>=3.5.0->openai) (3.10)\n",
      "Requirement already satisfied: certifi in c:\\users\\alejandro\\appdata\\local\\programs\\python\\python39\\lib\\site-packages (from httpx<1,>=0.23.0->openai) (2025.4.26)\n",
      "Requirement already satisfied: httpcore==1.* in c:\\users\\alejandro\\appdata\\local\\programs\\python\\python39\\lib\\site-packages (from httpx<1,>=0.23.0->openai) (1.0.9)\n",
      "Requirement already satisfied: h11>=0.16 in c:\\users\\alejandro\\appdata\\local\\programs\\python\\python39\\lib\\site-packages (from httpcore==1.*->httpx<1,>=0.23.0->openai) (0.16.0)\n",
      "Requirement already satisfied: annotated-types>=0.6.0 in c:\\users\\alejandro\\appdata\\local\\programs\\python\\python39\\lib\\site-packages (from pydantic<3,>=1.9.0->openai) (0.7.0)\n",
      "Requirement already satisfied: pydantic-core==2.33.2 in c:\\users\\alejandro\\appdata\\local\\programs\\python\\python39\\lib\\site-packages (from pydantic<3,>=1.9.0->openai) (2.33.2)\n",
      "Requirement already satisfied: typing-inspection>=0.4.0 in c:\\users\\alejandro\\appdata\\local\\programs\\python\\python39\\lib\\site-packages (from pydantic<3,>=1.9.0->openai) (0.4.0)\n",
      "Requirement already satisfied: colorama in c:\\users\\alejandro\\appdata\\local\\programs\\python\\python39\\lib\\site-packages (from tqdm>4->openai) (0.4.6)\n",
      "Requirement already satisfied: openai in c:\\users\\alejandro\\appdata\\local\\programs\\python\\python39\\lib\\site-packages (1.79.0)\n",
      "Requirement already satisfied: python-dotenv in c:\\users\\alejandro\\appdata\\local\\programs\\python\\python39\\lib\\site-packages (1.1.0)\n",
      "Requirement already satisfied: anyio<5,>=3.5.0 in c:\\users\\alejandro\\appdata\\local\\programs\\python\\python39\\lib\\site-packages (from openai) (4.9.0)\n",
      "Requirement already satisfied: distro<2,>=1.7.0 in c:\\users\\alejandro\\appdata\\local\\programs\\python\\python39\\lib\\site-packages (from openai) (1.9.0)\n",
      "Requirement already satisfied: httpx<1,>=0.23.0 in c:\\users\\alejandro\\appdata\\local\\programs\\python\\python39\\lib\\site-packages (from openai) (0.28.1)\n",
      "Requirement already satisfied: jiter<1,>=0.4.0 in c:\\users\\alejandro\\appdata\\local\\programs\\python\\python39\\lib\\site-packages (from openai) (0.10.0)\n",
      "Requirement already satisfied: pydantic<3,>=1.9.0 in c:\\users\\alejandro\\appdata\\local\\programs\\python\\python39\\lib\\site-packages (from openai) (2.11.4)\n",
      "Requirement already satisfied: sniffio in c:\\users\\alejandro\\appdata\\local\\programs\\python\\python39\\lib\\site-packages (from openai) (1.3.1)\n",
      "Requirement already satisfied: tqdm>4 in c:\\users\\alejandro\\appdata\\local\\programs\\python\\python39\\lib\\site-packages (from openai) (4.67.1)\n",
      "Requirement already satisfied: typing-extensions<5,>=4.11 in c:\\users\\alejandro\\appdata\\local\\programs\\python\\python39\\lib\\site-packages (from openai) (4.13.2)\n",
      "Requirement already satisfied: exceptiongroup>=1.0.2 in c:\\users\\alejandro\\appdata\\local\\programs\\python\\python39\\lib\\site-packages (from anyio<5,>=3.5.0->openai) (1.2.2)\n",
      "Requirement already satisfied: idna>=2.8 in c:\\users\\alejandro\\appdata\\local\\programs\\python\\python39\\lib\\site-packages (from anyio<5,>=3.5.0->openai) (3.10)\n",
      "Requirement already satisfied: certifi in c:\\users\\alejandro\\appdata\\local\\programs\\python\\python39\\lib\\site-packages (from httpx<1,>=0.23.0->openai) (2025.4.26)\n",
      "Requirement already satisfied: httpcore==1.* in c:\\users\\alejandro\\appdata\\local\\programs\\python\\python39\\lib\\site-packages (from httpx<1,>=0.23.0->openai) (1.0.9)\n",
      "Requirement already satisfied: h11>=0.16 in c:\\users\\alejandro\\appdata\\local\\programs\\python\\python39\\lib\\site-packages (from httpcore==1.*->httpx<1,>=0.23.0->openai) (0.16.0)\n",
      "Requirement already satisfied: annotated-types>=0.6.0 in c:\\users\\alejandro\\appdata\\local\\programs\\python\\python39\\lib\\site-packages (from pydantic<3,>=1.9.0->openai) (0.7.0)\n",
      "Requirement already satisfied: pydantic-core==2.33.2 in c:\\users\\alejandro\\appdata\\local\\programs\\python\\python39\\lib\\site-packages (from pydantic<3,>=1.9.0->openai) (2.33.2)\n",
      "Requirement already satisfied: typing-inspection>=0.4.0 in c:\\users\\alejandro\\appdata\\local\\programs\\python\\python39\\lib\\site-packages (from pydantic<3,>=1.9.0->openai) (0.4.0)\n",
      "Requirement already satisfied: colorama in c:\\users\\alejandro\\appdata\\local\\programs\\python\\python39\\lib\\site-packages (from tqdm>4->openai) (0.4.6)\n"
     ]
    }
   ],
   "execution_count": 22
  },
  {
   "metadata": {},
   "cell_type": "markdown",
   "source": [
    " ## Imports and Configuration\n",
    "Load environment variables from `.env` and initialize the OpenAI client."
   ],
   "id": "a80c7606e5f11525"
  },
  {
   "metadata": {
    "ExecuteTime": {
     "end_time": "2025-05-20T02:29:35.462678Z",
     "start_time": "2025-05-20T02:29:35.451210Z"
    }
   },
   "cell_type": "code",
   "source": [
    "import os\n",
    "from dotenv import load_dotenv\n",
    "import openai"
   ],
   "id": "3ef9a0578613a498",
   "outputs": [],
   "execution_count": 9
  },
  {
   "metadata": {
    "ExecuteTime": {
     "end_time": "2025-05-20T03:26:45.475855Z",
     "start_time": "2025-05-20T03:26:45.461831Z"
    }
   },
   "cell_type": "code",
   "source": [
    "# Load environment variables from .env\n",
    "load_dotenv()\n",
    "\n",
    "# Set API key\n",
    "openai.api_key = os.getenv(\"OPENAI_API_KEY\")\n",
    "assert openai.api_key, \"Please set OPENAI_API_KEY in your .env file.\""
   ],
   "id": "38e4834c07d9366d",
   "outputs": [],
   "execution_count": 24
  },
  {
   "metadata": {},
   "cell_type": "markdown",
   "source": [
    "\n",
    "## Core Helpers\n",
    "These functions build the prompt from BHL text and optional species context."
   ],
   "id": "b8c2352267b0b04d"
  },
  {
   "metadata": {
    "ExecuteTime": {
     "end_time": "2025-05-20T03:26:47.220298Z",
     "start_time": "2025-05-20T03:26:47.208992Z"
    }
   },
   "cell_type": "code",
   "source": [
    "\n",
    "def _call_chat(model: str, prompt: str, max_tokens: int, temperature: float):\n",
    "    messages = [\n",
    "        {\"role\": \"system\", \"content\": \"Eres un asistente útil para generar preguntas y respuestas en español.\"},\n",
    "        {\"role\": \"user\", \"content\": prompt}\n",
    "    ]\n",
    "    return openai.chat.completions.create(\n",
    "        model=model,\n",
    "        messages=messages,\n",
    "        max_tokens=max_tokens,\n",
    "        temperature=temperature\n",
    "    )"
   ],
   "id": "ea8f679638e2cae4",
   "outputs": [],
   "execution_count": 25
  },
  {
   "metadata": {},
   "cell_type": "markdown",
   "source": [
    "## 1. BHL Text Q&A\n",
    "Generate exactly three Q&A pairs from a BHL-extracted text."
   ],
   "id": "1d0a3b7b076c75cb"
  },
  {
   "metadata": {
    "ExecuteTime": {
     "end_time": "2025-05-20T03:26:49.404797Z",
     "start_time": "2025-05-20T03:26:49.391235Z"
    }
   },
   "cell_type": "code",
   "source": [
    "def generate_bhl_qna(text: str,\n",
    "                     model: str = \"gpt-3.5-turbo\",\n",
    "                     max_tokens: int = 500,\n",
    "                     temperature: float = 0.3) -> str:\n",
    "    \"\"\"\n",
    "    Returns three Q&A pairs (preguntas y respuestas) in Spanish based on BHL `text`.\n",
    "    \"\"\"\n",
    "    prompt = (\n",
    "        f\"Hola, tengo este texto extraído desde la API de BHL y quiero generar tres preguntas con sus respectivas respuestas.\\n\"\n",
    "        f\"Este es el texto:\\n\\n{text}\\n\\n\"\n",
    "        \"Por favor, entrega exactamente tres preguntas en español con sus respectivas respuestas, en un formato claro.\"\n",
    "    )\n",
    "    response = _call_chat(model, prompt, max_tokens, temperature)\n",
    "    return response.choices[0].message.content.strip()"
   ],
   "id": "f4ac6b92cdf3afb2",
   "outputs": [],
   "execution_count": 26
  },
  {
   "metadata": {},
   "cell_type": "markdown",
   "source": [
    "## 2. BHL Text Q&A with Cost\n",
    "Returns Q&A plus usage and estimated cost."
   ],
   "id": "ab4bc9e127cad68d"
  },
  {
   "metadata": {
    "ExecuteTime": {
     "end_time": "2025-05-20T03:26:51.562933Z",
     "start_time": "2025-05-20T03:26:51.547915Z"
    }
   },
   "cell_type": "code",
   "source": [
    "def generate_bhl_qna_with_cost(text: str,\n",
    "                               model: str = \"gpt-3.5-turbo\",\n",
    "                               max_tokens: int = 500,\n",
    "                               temperature: float = 0.3) -> tuple:\n",
    "    \"\"\"\n",
    "    Returns (qna_text, usage, cost_estimate).\n",
    "    \"\"\"\n",
    "    prompt = (\n",
    "        f\"Hola, tengo este texto extraído desde la API de BHL y quiero generar tres preguntas con sus respectivas respuestas.\\n\"\n",
    "        f\"Este es el texto:\\n\\n{text}\\n\\n\"\n",
    "        \"Por favor, entrega exactamente tres preguntas en español con sus respectivas respuestas, en un formato claro.\"\n",
    "    )\n",
    "    response = _call_chat(model, prompt, max_tokens, temperature)\n",
    "    usage = response.usage\n",
    "    cost = (usage.total_tokens * 0.002) / 1000\n",
    "    return response.choices[0].message.content.strip(), usage, cost"
   ],
   "id": "feb5f498d54eb8e2",
   "outputs": [],
   "execution_count": 27
  },
  {
   "metadata": {},
   "cell_type": "markdown",
   "source": [
    "## 3. Species-Oriented Q&A\n",
    "Generate Q&A focused on a specific species."
   ],
   "id": "4a3d6a4d9ed0c90"
  },
  {
   "metadata": {
    "ExecuteTime": {
     "end_time": "2025-05-20T03:26:53.655824Z",
     "start_time": "2025-05-20T03:26:53.642293Z"
    }
   },
   "cell_type": "code",
   "source": [
    "def generate_species_qna(text: str,\n",
    "                         species: str,\n",
    "                         model: str = \"gpt-4\",\n",
    "                         max_tokens: int = 500,\n",
    "                         temperature: float = 0.3) -> str:\n",
    "    \"\"\"\n",
    "    Returns three Q&A pairs oriented around `species` from BHL `text`.\n",
    "    \"\"\"\n",
    "    prompt = (\n",
    "        f\"Usa el siguiente texto y genera exactamente tres preguntas en español con sus respuestas, \"\n",
    "        f\"orientadas a información sobre la especie: {species}.\\n\\nTexto:\\n{text}\"\n",
    "    )\n",
    "    response = _call_chat(model, prompt, max_tokens, temperature)\n",
    "    return response.choices[0].message.content.strip()"
   ],
   "id": "9c27c7a1eb3cff83",
   "outputs": [],
   "execution_count": 28
  },
  {
   "metadata": {},
   "cell_type": "markdown",
   "source": [
    "## 4. Species-Oriented Q&A with Cost\n",
    "Returns species-focused Q&A plus usage and estimated cost."
   ],
   "id": "58cd669734a04687"
  },
  {
   "metadata": {
    "ExecuteTime": {
     "end_time": "2025-05-20T03:26:55.707198Z",
     "start_time": "2025-05-20T03:26:55.683077Z"
    }
   },
   "cell_type": "code",
   "source": [
    "def generate_species_qna_with_cost(text: str,\n",
    "                                   species: str,\n",
    "                                   model: str = \"gpt-4\",\n",
    "                                   max_tokens: int = 500,\n",
    "                                   temperature: float = 0.3) -> tuple:\n",
    "    \"\"\"\n",
    "    Returns (qna_text, usage, cost_estimate) for species-focused Q&A.\n",
    "    \"\"\"\n",
    "    prompt = (\n",
    "        f\"Usa el siguiente texto y genera exactamente tres preguntas en español con sus respuestas, \"\n",
    "        f\"orientadas a información sobre la especie: {species}.\\n\\nTexto:\\n{text}\"\n",
    "    )\n",
    "    response = _call_chat(model, prompt, max_tokens, temperature)\n",
    "    usage = response.usage\n",
    "    cost = (usage.total_tokens * 0.002) / 1000\n",
    "    return response.choices[0].message.content.strip(), usage, cost"
   ],
   "id": "8bef5568ef01240f",
   "outputs": [],
   "execution_count": 29
  },
  {
   "metadata": {},
   "cell_type": "markdown",
   "source": "# Usage",
   "id": "ec568bf37cc40450"
  },
  {
   "metadata": {
    "ExecuteTime": {
     "end_time": "2025-05-20T03:28:22.117006Z",
     "start_time": "2025-05-20T03:27:54.326236Z"
    }
   },
   "cell_type": "code",
   "source": [
    "text_content = \"\"\"\n",
    "Mesa Montero Es una zona que se presenta en la parte oeste del Estado, entre las Sierras Fría, El Piñal, Sierra del Laurel y El Valle de Aguascal lentes. La vegetación es un pastizal con algunas áreas de encinares. Los mamíferos de la localidad son: coyote, venado cola blanca, ardillón, ratones de patas blancas, zorrillos, liebre de cola negra y zorra gris (Proa, 1 982; De la Riva et al., 2000b). Serranía Juan El Grande Es una serranía localizada en El Llano, frente al poblado de Palo Alto. La vegetación presente es encinares en la parte alta y matorral crasicaule en la zona baja y los mamíferos de la zona son: diversas especies de ratas canguro, varias especies de ratones de patas blancas, conejo cola blanca y liebre cola negra (Proa, 1 982). Serranía de Tepezalá Se localiza en la porción noreste del Estado. Se caracteriza por presentar una vegetación de matorral crasicaule, pastizal y encinares en las partes altas. Los mamíferos presentes en la zona son: coyote, zorrillos, conejo de cola blanca, liebre cola negra, diversas especies de ratones de abazones, ratones de patas blancas, rata magueyera, ardillas (figura 3.18.3), ardillones. De la Riva (1989) realizó un estudio de mamíferos con algunas colectas en la cercanía de esta sierra, sin embargo, creemos que es necesario estudiarla mejor. Sierra de Guajolotes Se localiza en la parte noroeste de la ciudad de Aguascalientes; es una sierra con topografía accidentada y una vegetación representada por bosque de encino en sus partes altas y chaparral de encino y manzanita en las partes bajas. Se tiene poca o nula información sobre las especies de mamíferos que se presentan en esta sierra. Es necesario que los próximos estudios sobre mamíferos estén enfocados a esta zona con el fin de conocer su mastofauna representativa. Valle de Huejúcar Es el valle por donde se desplaza la carretera 70 y es donde está asentada la ciudad de Calvillo. Se caracteriza por ser una zona donde predominan los cultivos de guayaba y en las áreas naturales la vegetación es matorral subtropical. La zona está habitada por diferentes especies de mamíferos como: coyote, ardillón, liebre cola negra, conejo cola blanca, tlacuache, diversas especies de ratones de bolsas, murciélago vampiro.\n",
    "\"\"\"\n",
    "\n",
    "# # BHL Q&A\n",
    "#qna = generate_bhl_qna(text_content)\n",
    "\n",
    "# # BHL Q&A with cost\n",
    "#qna, usage, cost = generate_bhl_qna_with_cost(text_content)\n",
    "\n",
    "# # Species Q&A\n",
    "#qna_spec = generate_species_qna(text_content, species=\"Dermanura azteca\")\n",
    "\n",
    "# # Species Q&A with cost\n",
    "qna_spec, usage_spec, cost_spec = generate_species_qna_with_cost(text_content, species=\"Dermanura azteca\")"
   ],
   "id": "7ffa28785fbb64db",
   "outputs": [],
   "execution_count": 31
  },
  {
   "metadata": {},
   "cell_type": "markdown",
   "source": [
    "## Displaying Species Q&A with Readable Output\n",
    "This block formats and prints the species-oriented Q&A, usage breakdown, and estimated cost neatly."
   ],
   "id": "9eb167fb1d50ed5d"
  },
  {
   "metadata": {
    "ExecuteTime": {
     "end_time": "2025-05-20T03:31:48.187869Z",
     "start_time": "2025-05-20T03:31:48.169821Z"
    }
   },
   "cell_type": "code",
   "source": [
    "# Ensure you've already run the species Q&A with cost cell\n",
    "print(\"=== Species-Oriented Q&A ===\")\n",
    "print(qna_spec)\n",
    "\n",
    "print(\"=== Token Usage Breakdown ===\")\n",
    "print(f\"Prompt tokens:     {usage_spec.prompt_tokens}\")\n",
    "print(f\"Completion tokens: {usage_spec.completion_tokens}\")\n",
    "print(f\"Total tokens:      {usage_spec.total_tokens}\")\n",
    "\n",
    "print(f\"Estimated Cost:    ${cost_spec:.6f}\")"
   ],
   "id": "7628fecce9749967",
   "outputs": [
    {
     "name": "stdout",
     "output_type": "stream",
     "text": [
      "=== Species-Oriented Q&A ===\n",
      "Pregunta 1: ¿Qué tipo de vegetación se encuentra en la zona de Mesa Montero?\n",
      "Respuesta 1: En la zona de Mesa Montero, la vegetación es principalmente un pastizal con algunas áreas de encinares.\n",
      "\n",
      "Pregunta 2: ¿Qué especies de mamíferos se pueden encontrar en la Serranía de Tepezalá?\n",
      "Respuesta 2: En la Serranía de Tepezalá se pueden encontrar mamíferos como el coyote, zorrillos, conejo de cola blanca, liebre cola negra, diversas especies de ratones de abazones, ratones de patas blancas, rata magueyera, ardillas y ardillones.\n",
      "\n",
      "Pregunta 3: ¿Qué caracteriza al Valle de Huejúcar en términos de vegetación y fauna?\n",
      "Respuesta 3: El Valle de Huejúcar se caracteriza por ser una zona donde predominan los cultivos de guayaba y en las áreas naturales la vegetación es matorral subtropical. La zona está habitada por diferentes especies de mamíferos como: coyote, ardillón, liebre cola negra, conejo cola blanca, tlacuache, diversas especies de ratones de bolsas y murciélago vampiro.\n",
      "=== Token Usage Breakdown ===\n",
      "Prompt tokens:     722\n",
      "Completion tokens: 286\n",
      "Total tokens:      1008\n",
      "Estimated Cost:    $0.002016\n"
     ]
    }
   ],
   "execution_count": 35
  }
 ],
 "metadata": {
  "kernelspec": {
   "display_name": "Python 3",
   "language": "python",
   "name": "python3"
  },
  "language_info": {
   "codemirror_mode": {
    "name": "ipython",
    "version": 2
   },
   "file_extension": ".py",
   "mimetype": "text/x-python",
   "name": "python",
   "nbconvert_exporter": "python",
   "pygments_lexer": "ipython2",
   "version": "2.7.6"
  }
 },
 "nbformat": 4,
 "nbformat_minor": 5
}
